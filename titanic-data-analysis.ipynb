{
 "cells": [
  {
   "cell_type": "markdown",
   "metadata": {},
   "source": [
    "## P2 : Investigate a [Titanic] Dataset\n",
    "\n",
    "#### Author :- Sai Charan Adurthi\n"
   ]
  },
  {
   "cell_type": "markdown",
   "metadata": {},
   "source": [
    "## 1. Questions\n",
    "\n",
    "* Which gender has a better chance of survival ?\n",
    "* Which Passenger class has a better chance of survival ?\n",
    "* which age group has a better chance of survival ?\n",
    "* Relationship between age and fare charged."
   ]
  },
  {
   "cell_type": "markdown",
   "metadata": {},
   "source": [
    "## 2. Import necessary libraries and setup the report.\n",
    "        I am using numpy, pandas, matlotlib and seaborn libraries."
   ]
  },
  {
   "cell_type": "code",
   "execution_count": 1,
   "metadata": {},
   "outputs": [
    {
     "name": "stdout",
     "output_type": "stream",
     "text": [
      "Populating the interactive namespace from numpy and matplotlib\n"
     ]
    }
   ],
   "source": [
    "import numpy as np\n",
    "import pandas as pd\n",
    "import matplotlib.pyplot as plt\n",
    "import seaborn as sns\n",
    "import scipy.stats as stats\n",
    "\n",
    "#this allows visualisations and plots to be diplayed in the notebook/report.\n",
    "%pylab inline  "
   ]
  },
  {
   "cell_type": "code",
   "execution_count": 2,
   "metadata": {
    "collapsed": true
   },
   "outputs": [],
   "source": [
    "# function to plot data.\n",
    "def plot_pie_data(series_data, labels, title_cat):\n",
    "    '''plots pie chart for the given data and labels.\n",
    "    data    :-    pandas series data\n",
    "    labels  :-    labels for the pie chart in order.'''\n",
    "    \n",
    "    # plot customisation\n",
    "    colors = ['green', 'blue']\n",
    "    explode = (0.2, 0)  # explode 1st slice\n",
    " \n",
    "    # Plotting the data\n",
    "    plt.pie(series_data, labels=labels, explode=explode, colors=colors,\n",
    "        autopct='%1.1f%%', shadow=True, startangle=80)\n",
    "    plt.legend(labels, loc=\"lower left\")\n",
    "    plt.axis('equal')\n",
    "    plt.title(\"Pie Chart over Survivals and Deaths of \"+title_cat+\" passengers.\", loc=\"right\")\n",
    "    plt.show()\n",
    "\n",
    "# function to calculate the percentage of passengers suvived, dead.    \n",
    "def calculate_percentage(val, total):\n",
    "    \"\"\"Calculates the percentage of a value over a total\n",
    "    val     :-    the value of passengers survived or dead of a specific category/class.\n",
    "    total   :-    the total value of passengers of a specific category/class.\n",
    "    \"\"\"\n",
    "    percent = np.divide(val, total, dtype=float)\n",
    "    return percent\n",
    "\n",
    "#function to plot charts. \n",
    "def plot_count_and_percentage_charts(survivals_data, deaths_data, survivals_percentages, deaths_percentages, labels, leg_loc):\n",
    "    '''plots charts for survival and deaths data for the given input.\n",
    "    survivals_data          :-    data of survived passengers\n",
    "    deaths_data             :-    data of dead passengers\n",
    "    survivals_percentages   :-    percentage of passengers survived according to a specific category.\n",
    "    deaths_percentages      :-    percentage of passengers dead according to a specific category.\n",
    "    labels                  :-    labels for x-axis of charts\n",
    "    leg_loc                 :-    location of the legend on the chart.'''\n",
    "    \n",
    "    f, (ax1, ax2) = plt.subplots(1, 2, figsize=(10,5))\n",
    "    \n",
    "    tick_spacing = np.array(range(len(labels)))+0.4\n",
    "    \n",
    "    # plot chart for number of survivors per category / class\n",
    "    ax1.bar(range(len(survivals_data)), survivals_data, label='Survivors', color='g')\n",
    "    ax1.bar(range(len(deaths_data)), deaths_data, bottom=survivals_data, label='Deaths', color='b')\n",
    "    plt.sca(ax1)\n",
    "    plt.xticks(tick_spacing, labels)\n",
    "    ax1.set_ylabel(\"Count\")\n",
    "    ax1.set_xlabel(\"Category/Class Type\")\n",
    "    ax1.set_title(\"Count of survivors by class\",fontsize=12)\n",
    "    plt.legend(loc=leg_loc)\n",
    "\n",
    "    # plot chart for percentage of survivors per category / class\n",
    "    ax2.bar(range(len(survivals_percentages)), survivals_percentages, color='g')\n",
    "    ax2.bar(range(len(deaths_percentages)), deaths_percentages, bottom=survivals_percentages, color='b')\n",
    "    plt.sca(ax2)\n",
    "    plt.xticks(tick_spacing, labels)\n",
    "    ax2.set_ylabel(\"Percentage\")\n",
    "    ax2.set_xlabel(\"Category/Class Type\")\n",
    "    ax2.set_title(\"Percentage of survivors by class\",fontsize=12)"
   ]
  },
  {
   "cell_type": "markdown",
   "metadata": {},
   "source": [
    "## 3. Data Wrangling / acquisition\n",
    "     Load CSV into dataframe"
   ]
  },
  {
   "cell_type": "code",
   "execution_count": 3,
   "metadata": {
    "collapsed": true
   },
   "outputs": [],
   "source": [
    "titanic_df = pd.read_csv('titanic-data.csv')"
   ]
  },
  {
   "cell_type": "markdown",
   "metadata": {},
   "source": [
    "## 4. Data Wrangling / cleaning\n",
    "\n",
    "    There isn't much data acquisition to perform for this dataset, apart from loading the data into dataframe from csv file. Now, we look for the  missing values in the data and remove data which is not required for our analysis to make the \n",
    "    operations faster.\n",
    "\n",
    "    First, we take a look at the dataframe's first 10 rows. "
   ]
  },
  {
   "cell_type": "code",
   "execution_count": 4,
   "metadata": {},
   "outputs": [
    {
     "data": {
      "text/html": [
       "<div>\n",
       "<table border=\"1\" class=\"dataframe\">\n",
       "  <thead>\n",
       "    <tr style=\"text-align: right;\">\n",
       "      <th></th>\n",
       "      <th>PassengerId</th>\n",
       "      <th>Survived</th>\n",
       "      <th>Pclass</th>\n",
       "      <th>Name</th>\n",
       "      <th>Sex</th>\n",
       "      <th>Age</th>\n",
       "      <th>SibSp</th>\n",
       "      <th>Parch</th>\n",
       "      <th>Ticket</th>\n",
       "      <th>Fare</th>\n",
       "      <th>Cabin</th>\n",
       "      <th>Embarked</th>\n",
       "    </tr>\n",
       "  </thead>\n",
       "  <tbody>\n",
       "    <tr>\n",
       "      <th>0</th>\n",
       "      <td>1</td>\n",
       "      <td>0</td>\n",
       "      <td>3</td>\n",
       "      <td>Braund, Mr. Owen Harris</td>\n",
       "      <td>male</td>\n",
       "      <td>22.0</td>\n",
       "      <td>1</td>\n",
       "      <td>0</td>\n",
       "      <td>A/5 21171</td>\n",
       "      <td>7.2500</td>\n",
       "      <td>NaN</td>\n",
       "      <td>S</td>\n",
       "    </tr>\n",
       "    <tr>\n",
       "      <th>1</th>\n",
       "      <td>2</td>\n",
       "      <td>1</td>\n",
       "      <td>1</td>\n",
       "      <td>Cumings, Mrs. John Bradley (Florence Briggs Th...</td>\n",
       "      <td>female</td>\n",
       "      <td>38.0</td>\n",
       "      <td>1</td>\n",
       "      <td>0</td>\n",
       "      <td>PC 17599</td>\n",
       "      <td>71.2833</td>\n",
       "      <td>C85</td>\n",
       "      <td>C</td>\n",
       "    </tr>\n",
       "    <tr>\n",
       "      <th>2</th>\n",
       "      <td>3</td>\n",
       "      <td>1</td>\n",
       "      <td>3</td>\n",
       "      <td>Heikkinen, Miss. Laina</td>\n",
       "      <td>female</td>\n",
       "      <td>26.0</td>\n",
       "      <td>0</td>\n",
       "      <td>0</td>\n",
       "      <td>STON/O2. 3101282</td>\n",
       "      <td>7.9250</td>\n",
       "      <td>NaN</td>\n",
       "      <td>S</td>\n",
       "    </tr>\n",
       "    <tr>\n",
       "      <th>3</th>\n",
       "      <td>4</td>\n",
       "      <td>1</td>\n",
       "      <td>1</td>\n",
       "      <td>Futrelle, Mrs. Jacques Heath (Lily May Peel)</td>\n",
       "      <td>female</td>\n",
       "      <td>35.0</td>\n",
       "      <td>1</td>\n",
       "      <td>0</td>\n",
       "      <td>113803</td>\n",
       "      <td>53.1000</td>\n",
       "      <td>C123</td>\n",
       "      <td>S</td>\n",
       "    </tr>\n",
       "    <tr>\n",
       "      <th>4</th>\n",
       "      <td>5</td>\n",
       "      <td>0</td>\n",
       "      <td>3</td>\n",
       "      <td>Allen, Mr. William Henry</td>\n",
       "      <td>male</td>\n",
       "      <td>35.0</td>\n",
       "      <td>0</td>\n",
       "      <td>0</td>\n",
       "      <td>373450</td>\n",
       "      <td>8.0500</td>\n",
       "      <td>NaN</td>\n",
       "      <td>S</td>\n",
       "    </tr>\n",
       "    <tr>\n",
       "      <th>5</th>\n",
       "      <td>6</td>\n",
       "      <td>0</td>\n",
       "      <td>3</td>\n",
       "      <td>Moran, Mr. James</td>\n",
       "      <td>male</td>\n",
       "      <td>NaN</td>\n",
       "      <td>0</td>\n",
       "      <td>0</td>\n",
       "      <td>330877</td>\n",
       "      <td>8.4583</td>\n",
       "      <td>NaN</td>\n",
       "      <td>Q</td>\n",
       "    </tr>\n",
       "    <tr>\n",
       "      <th>6</th>\n",
       "      <td>7</td>\n",
       "      <td>0</td>\n",
       "      <td>1</td>\n",
       "      <td>McCarthy, Mr. Timothy J</td>\n",
       "      <td>male</td>\n",
       "      <td>54.0</td>\n",
       "      <td>0</td>\n",
       "      <td>0</td>\n",
       "      <td>17463</td>\n",
       "      <td>51.8625</td>\n",
       "      <td>E46</td>\n",
       "      <td>S</td>\n",
       "    </tr>\n",
       "    <tr>\n",
       "      <th>7</th>\n",
       "      <td>8</td>\n",
       "      <td>0</td>\n",
       "      <td>3</td>\n",
       "      <td>Palsson, Master. Gosta Leonard</td>\n",
       "      <td>male</td>\n",
       "      <td>2.0</td>\n",
       "      <td>3</td>\n",
       "      <td>1</td>\n",
       "      <td>349909</td>\n",
       "      <td>21.0750</td>\n",
       "      <td>NaN</td>\n",
       "      <td>S</td>\n",
       "    </tr>\n",
       "    <tr>\n",
       "      <th>8</th>\n",
       "      <td>9</td>\n",
       "      <td>1</td>\n",
       "      <td>3</td>\n",
       "      <td>Johnson, Mrs. Oscar W (Elisabeth Vilhelmina Berg)</td>\n",
       "      <td>female</td>\n",
       "      <td>27.0</td>\n",
       "      <td>0</td>\n",
       "      <td>2</td>\n",
       "      <td>347742</td>\n",
       "      <td>11.1333</td>\n",
       "      <td>NaN</td>\n",
       "      <td>S</td>\n",
       "    </tr>\n",
       "    <tr>\n",
       "      <th>9</th>\n",
       "      <td>10</td>\n",
       "      <td>1</td>\n",
       "      <td>2</td>\n",
       "      <td>Nasser, Mrs. Nicholas (Adele Achem)</td>\n",
       "      <td>female</td>\n",
       "      <td>14.0</td>\n",
       "      <td>1</td>\n",
       "      <td>0</td>\n",
       "      <td>237736</td>\n",
       "      <td>30.0708</td>\n",
       "      <td>NaN</td>\n",
       "      <td>C</td>\n",
       "    </tr>\n",
       "  </tbody>\n",
       "</table>\n",
       "</div>"
      ],
      "text/plain": [
       "   PassengerId  Survived  Pclass  \\\n",
       "0            1         0       3   \n",
       "1            2         1       1   \n",
       "2            3         1       3   \n",
       "3            4         1       1   \n",
       "4            5         0       3   \n",
       "5            6         0       3   \n",
       "6            7         0       1   \n",
       "7            8         0       3   \n",
       "8            9         1       3   \n",
       "9           10         1       2   \n",
       "\n",
       "                                                Name     Sex   Age  SibSp  \\\n",
       "0                            Braund, Mr. Owen Harris    male  22.0      1   \n",
       "1  Cumings, Mrs. John Bradley (Florence Briggs Th...  female  38.0      1   \n",
       "2                             Heikkinen, Miss. Laina  female  26.0      0   \n",
       "3       Futrelle, Mrs. Jacques Heath (Lily May Peel)  female  35.0      1   \n",
       "4                           Allen, Mr. William Henry    male  35.0      0   \n",
       "5                                   Moran, Mr. James    male   NaN      0   \n",
       "6                            McCarthy, Mr. Timothy J    male  54.0      0   \n",
       "7                     Palsson, Master. Gosta Leonard    male   2.0      3   \n",
       "8  Johnson, Mrs. Oscar W (Elisabeth Vilhelmina Berg)  female  27.0      0   \n",
       "9                Nasser, Mrs. Nicholas (Adele Achem)  female  14.0      1   \n",
       "\n",
       "   Parch            Ticket     Fare Cabin Embarked  \n",
       "0      0         A/5 21171   7.2500   NaN        S  \n",
       "1      0          PC 17599  71.2833   C85        C  \n",
       "2      0  STON/O2. 3101282   7.9250   NaN        S  \n",
       "3      0            113803  53.1000  C123        S  \n",
       "4      0            373450   8.0500   NaN        S  \n",
       "5      0            330877   8.4583   NaN        Q  \n",
       "6      0             17463  51.8625   E46        S  \n",
       "7      1            349909  21.0750   NaN        S  \n",
       "8      2            347742  11.1333   NaN        S  \n",
       "9      0            237736  30.0708   NaN        C  "
      ]
     },
     "execution_count": 4,
     "metadata": {},
     "output_type": "execute_result"
    }
   ],
   "source": [
    "titanic_df.head(10)"
   ]
  },
  {
   "cell_type": "markdown",
   "metadata": {},
   "source": [
    "\n",
    "Now, we look at a concise information of titanic dataframe to find the missing values/incomplete data."
   ]
  },
  {
   "cell_type": "code",
   "execution_count": 5,
   "metadata": {},
   "outputs": [
    {
     "name": "stdout",
     "output_type": "stream",
     "text": [
      "<class 'pandas.core.frame.DataFrame'>\n",
      "RangeIndex: 891 entries, 0 to 890\n",
      "Data columns (total 12 columns):\n",
      "PassengerId    891 non-null int64\n",
      "Survived       891 non-null int64\n",
      "Pclass         891 non-null int64\n",
      "Name           891 non-null object\n",
      "Sex            891 non-null object\n",
      "Age            714 non-null float64\n",
      "SibSp          891 non-null int64\n",
      "Parch          891 non-null int64\n",
      "Ticket         891 non-null object\n",
      "Fare           891 non-null float64\n",
      "Cabin          204 non-null object\n",
      "Embarked       889 non-null object\n",
      "dtypes: float64(2), int64(5), object(5)\n",
      "memory usage: 83.6+ KB\n"
     ]
    }
   ],
   "source": [
    "titanic_df.info()  #concise summary of the dataframe"
   ]
  },
  {
   "cell_type": "markdown",
   "metadata": {},
   "source": [
    "**From above information it is clear that the columns [Age, Cabin, Embarked] have missing values.**\n",
    "\n",
    "We remove / replace missing values of age and embarked columns as they are need to answer our questions."
   ]
  },
  {
   "cell_type": "markdown",
   "metadata": {},
   "source": [
    "## 4.1. Missing Ages\n",
    "\n",
    "    I am assuming the average age for a gender in a class as the replacement for missing values."
   ]
  },
  {
   "cell_type": "code",
   "execution_count": 6,
   "metadata": {
    "collapsed": true
   },
   "outputs": [],
   "source": [
    "# using fillna() and transform with groupby to replace all NaN values in titanic_df - Age column with their respective mean age.\n",
    "\n",
    "titanic_df['Age'].fillna(titanic_df.groupby(['Sex', 'Pclass'])['Age'].transform(\"mean\"), inplace=True)"
   ]
  },
  {
   "cell_type": "markdown",
   "metadata": {},
   "source": [
    "## 4.2. Missing Embarkment"
   ]
  },
  {
   "cell_type": "code",
   "execution_count": 7,
   "metadata": {},
   "outputs": [
    {
     "data": {
      "text/html": [
       "<div>\n",
       "<table border=\"1\" class=\"dataframe\">\n",
       "  <thead>\n",
       "    <tr style=\"text-align: right;\">\n",
       "      <th></th>\n",
       "      <th>PassengerId</th>\n",
       "      <th>Survived</th>\n",
       "      <th>Pclass</th>\n",
       "      <th>Name</th>\n",
       "      <th>Sex</th>\n",
       "      <th>Age</th>\n",
       "      <th>SibSp</th>\n",
       "      <th>Parch</th>\n",
       "      <th>Ticket</th>\n",
       "      <th>Fare</th>\n",
       "      <th>Cabin</th>\n",
       "      <th>Embarked</th>\n",
       "    </tr>\n",
       "  </thead>\n",
       "  <tbody>\n",
       "    <tr>\n",
       "      <th>61</th>\n",
       "      <td>62</td>\n",
       "      <td>1</td>\n",
       "      <td>1</td>\n",
       "      <td>Icard, Miss. Amelie</td>\n",
       "      <td>female</td>\n",
       "      <td>38.0</td>\n",
       "      <td>0</td>\n",
       "      <td>0</td>\n",
       "      <td>113572</td>\n",
       "      <td>80.0</td>\n",
       "      <td>B28</td>\n",
       "      <td>NaN</td>\n",
       "    </tr>\n",
       "    <tr>\n",
       "      <th>829</th>\n",
       "      <td>830</td>\n",
       "      <td>1</td>\n",
       "      <td>1</td>\n",
       "      <td>Stone, Mrs. George Nelson (Martha Evelyn)</td>\n",
       "      <td>female</td>\n",
       "      <td>62.0</td>\n",
       "      <td>0</td>\n",
       "      <td>0</td>\n",
       "      <td>113572</td>\n",
       "      <td>80.0</td>\n",
       "      <td>B28</td>\n",
       "      <td>NaN</td>\n",
       "    </tr>\n",
       "  </tbody>\n",
       "</table>\n",
       "</div>"
      ],
      "text/plain": [
       "     PassengerId  Survived  Pclass                                       Name  \\\n",
       "61            62         1       1                        Icard, Miss. Amelie   \n",
       "829          830         1       1  Stone, Mrs. George Nelson (Martha Evelyn)   \n",
       "\n",
       "        Sex   Age  SibSp  Parch  Ticket  Fare Cabin Embarked  \n",
       "61   female  38.0      0      0  113572  80.0   B28      NaN  \n",
       "829  female  62.0      0      0  113572  80.0   B28      NaN  "
      ]
     },
     "execution_count": 7,
     "metadata": {},
     "output_type": "execute_result"
    }
   ],
   "source": [
    "missing_embarkments = titanic_df[titanic_df['Embarked'].isnull()]\n",
    "\n",
    "missing_embarkments"
   ]
  },
  {
   "cell_type": "markdown",
   "metadata": {
    "collapsed": true
   },
   "source": [
    "Both the null valued embarked column have ticket fare and cabin in common, so we try to search for another passenger with the same ticket number or cabin irrespective of their passenger class."
   ]
  },
  {
   "cell_type": "code",
   "execution_count": 8,
   "metadata": {},
   "outputs": [
    {
     "data": {
      "text/html": [
       "<div>\n",
       "<table border=\"1\" class=\"dataframe\">\n",
       "  <thead>\n",
       "    <tr style=\"text-align: right;\">\n",
       "      <th></th>\n",
       "      <th>PassengerId</th>\n",
       "      <th>Survived</th>\n",
       "      <th>Pclass</th>\n",
       "      <th>Name</th>\n",
       "      <th>Sex</th>\n",
       "      <th>Age</th>\n",
       "      <th>SibSp</th>\n",
       "      <th>Parch</th>\n",
       "      <th>Ticket</th>\n",
       "      <th>Fare</th>\n",
       "      <th>Cabin</th>\n",
       "      <th>Embarked</th>\n",
       "    </tr>\n",
       "  </thead>\n",
       "  <tbody>\n",
       "  </tbody>\n",
       "</table>\n",
       "</div>"
      ],
      "text/plain": [
       "Empty DataFrame\n",
       "Columns: [PassengerId, Survived, Pclass, Name, Sex, Age, SibSp, Parch, Ticket, Fare, Cabin, Embarked]\n",
       "Index: []"
      ]
     },
     "execution_count": 8,
     "metadata": {},
     "output_type": "execute_result"
    }
   ],
   "source": [
    "titanic_df[(titanic_df['Embarked'].notnull()) & ((titanic_df['Ticket'] == '113572') | (titanic_df['Cabin'] == 'B28'))]"
   ]
  },
  {
   "cell_type": "markdown",
   "metadata": {},
   "source": [
    "There are no rows matching with ticket number and cabin of the embarked - NaN valued rows.\n",
    "\n",
    "As, we don't have enough data to make an assumption for the embarked stage / place.  We, remove these rows from the dataframe."
   ]
  },
  {
   "cell_type": "code",
   "execution_count": 9,
   "metadata": {},
   "outputs": [
    {
     "name": "stdout",
     "output_type": "stream",
     "text": [
      "<class 'pandas.core.frame.DataFrame'>\n",
      "Int64Index: 889 entries, 0 to 890\n",
      "Data columns (total 12 columns):\n",
      "PassengerId    889 non-null int64\n",
      "Survived       889 non-null int64\n",
      "Pclass         889 non-null int64\n",
      "Name           889 non-null object\n",
      "Sex            889 non-null object\n",
      "Age            889 non-null float64\n",
      "SibSp          889 non-null int64\n",
      "Parch          889 non-null int64\n",
      "Ticket         889 non-null object\n",
      "Fare           889 non-null float64\n",
      "Cabin          202 non-null object\n",
      "Embarked       889 non-null object\n",
      "dtypes: float64(2), int64(5), object(5)\n",
      "memory usage: 90.3+ KB\n"
     ]
    }
   ],
   "source": [
    "titanic_df = titanic_df[titanic_df['Embarked'].notnull()]\n",
    "\n",
    "titanic_df.info()"
   ]
  },
  {
   "cell_type": "markdown",
   "metadata": {},
   "source": [
    "Now, we're done with removing / replacing null values in our data to answer the questions needed.\n",
    "\n",
    "We don't need the columns Name, Cabin, Sibsp, Parch and Ticket to answer our proposed queestions.\n",
    "\n",
    "Hence, we remove those columns from the dataframe."
   ]
  },
  {
   "cell_type": "code",
   "execution_count": 10,
   "metadata": {
    "collapsed": true
   },
   "outputs": [],
   "source": [
    "del titanic_df['Name']\n",
    "\n",
    "del titanic_df['Cabin']\n",
    "\n",
    "del titanic_df['Ticket']\n",
    "\n",
    "del titanic_df['SibSp']\n",
    "\n",
    "del titanic_df['Parch']"
   ]
  },
  {
   "cell_type": "markdown",
   "metadata": {},
   "source": [
    "Now, we take a look at the dataframe after deleting the columns Name, Cabin, Ticket"
   ]
  },
  {
   "cell_type": "code",
   "execution_count": 11,
   "metadata": {},
   "outputs": [
    {
     "data": {
      "text/html": [
       "<div>\n",
       "<table border=\"1\" class=\"dataframe\">\n",
       "  <thead>\n",
       "    <tr style=\"text-align: right;\">\n",
       "      <th></th>\n",
       "      <th>PassengerId</th>\n",
       "      <th>Survived</th>\n",
       "      <th>Pclass</th>\n",
       "      <th>Sex</th>\n",
       "      <th>Age</th>\n",
       "      <th>Fare</th>\n",
       "      <th>Embarked</th>\n",
       "    </tr>\n",
       "  </thead>\n",
       "  <tbody>\n",
       "    <tr>\n",
       "      <th>0</th>\n",
       "      <td>1</td>\n",
       "      <td>0</td>\n",
       "      <td>3</td>\n",
       "      <td>male</td>\n",
       "      <td>22.000000</td>\n",
       "      <td>7.2500</td>\n",
       "      <td>S</td>\n",
       "    </tr>\n",
       "    <tr>\n",
       "      <th>1</th>\n",
       "      <td>2</td>\n",
       "      <td>1</td>\n",
       "      <td>1</td>\n",
       "      <td>female</td>\n",
       "      <td>38.000000</td>\n",
       "      <td>71.2833</td>\n",
       "      <td>C</td>\n",
       "    </tr>\n",
       "    <tr>\n",
       "      <th>2</th>\n",
       "      <td>3</td>\n",
       "      <td>1</td>\n",
       "      <td>3</td>\n",
       "      <td>female</td>\n",
       "      <td>26.000000</td>\n",
       "      <td>7.9250</td>\n",
       "      <td>S</td>\n",
       "    </tr>\n",
       "    <tr>\n",
       "      <th>3</th>\n",
       "      <td>4</td>\n",
       "      <td>1</td>\n",
       "      <td>1</td>\n",
       "      <td>female</td>\n",
       "      <td>35.000000</td>\n",
       "      <td>53.1000</td>\n",
       "      <td>S</td>\n",
       "    </tr>\n",
       "    <tr>\n",
       "      <th>4</th>\n",
       "      <td>5</td>\n",
       "      <td>0</td>\n",
       "      <td>3</td>\n",
       "      <td>male</td>\n",
       "      <td>35.000000</td>\n",
       "      <td>8.0500</td>\n",
       "      <td>S</td>\n",
       "    </tr>\n",
       "    <tr>\n",
       "      <th>5</th>\n",
       "      <td>6</td>\n",
       "      <td>0</td>\n",
       "      <td>3</td>\n",
       "      <td>male</td>\n",
       "      <td>26.507589</td>\n",
       "      <td>8.4583</td>\n",
       "      <td>Q</td>\n",
       "    </tr>\n",
       "    <tr>\n",
       "      <th>6</th>\n",
       "      <td>7</td>\n",
       "      <td>0</td>\n",
       "      <td>1</td>\n",
       "      <td>male</td>\n",
       "      <td>54.000000</td>\n",
       "      <td>51.8625</td>\n",
       "      <td>S</td>\n",
       "    </tr>\n",
       "    <tr>\n",
       "      <th>7</th>\n",
       "      <td>8</td>\n",
       "      <td>0</td>\n",
       "      <td>3</td>\n",
       "      <td>male</td>\n",
       "      <td>2.000000</td>\n",
       "      <td>21.0750</td>\n",
       "      <td>S</td>\n",
       "    </tr>\n",
       "    <tr>\n",
       "      <th>8</th>\n",
       "      <td>9</td>\n",
       "      <td>1</td>\n",
       "      <td>3</td>\n",
       "      <td>female</td>\n",
       "      <td>27.000000</td>\n",
       "      <td>11.1333</td>\n",
       "      <td>S</td>\n",
       "    </tr>\n",
       "    <tr>\n",
       "      <th>9</th>\n",
       "      <td>10</td>\n",
       "      <td>1</td>\n",
       "      <td>2</td>\n",
       "      <td>female</td>\n",
       "      <td>14.000000</td>\n",
       "      <td>30.0708</td>\n",
       "      <td>C</td>\n",
       "    </tr>\n",
       "  </tbody>\n",
       "</table>\n",
       "</div>"
      ],
      "text/plain": [
       "   PassengerId  Survived  Pclass     Sex        Age     Fare Embarked\n",
       "0            1         0       3    male  22.000000   7.2500        S\n",
       "1            2         1       1  female  38.000000  71.2833        C\n",
       "2            3         1       3  female  26.000000   7.9250        S\n",
       "3            4         1       1  female  35.000000  53.1000        S\n",
       "4            5         0       3    male  35.000000   8.0500        S\n",
       "5            6         0       3    male  26.507589   8.4583        Q\n",
       "6            7         0       1    male  54.000000  51.8625        S\n",
       "7            8         0       3    male   2.000000  21.0750        S\n",
       "8            9         1       3  female  27.000000  11.1333        S\n",
       "9           10         1       2  female  14.000000  30.0708        C"
      ]
     },
     "execution_count": 11,
     "metadata": {},
     "output_type": "execute_result"
    }
   ],
   "source": [
    "titanic_df.head(10)"
   ]
  },
  {
   "cell_type": "markdown",
   "metadata": {},
   "source": [
    "## 4.3. Fixing Data and Datatypes.\n",
    "    Fix the data by replacing it with the appropriate data types for those values / fields to make the data more intuitive.\n",
    "        \n",
    "        * Here, the Pclass column will have values of strings as First class, Second class and Third class.\n",
    "        * Survived column will have boolean values True and False instead of 1 and 0\n",
    "        * Embarked ports will have their full names with the latest names i.e. [S - Southampton, C - Chebourg, Q - Queenstown\n",
    "          now known as Cobh.\n",
    "        * The fare value is rounded of to two decimal places. \n",
    "        * The ages of passengers are grouped to make the analysis of age data easier."
   ]
  },
  {
   "cell_type": "code",
   "execution_count": 12,
   "metadata": {},
   "outputs": [
    {
     "data": {
      "text/html": [
       "<div>\n",
       "<table border=\"1\" class=\"dataframe\">\n",
       "  <thead>\n",
       "    <tr style=\"text-align: right;\">\n",
       "      <th></th>\n",
       "      <th>PassengerId</th>\n",
       "      <th>Survived</th>\n",
       "      <th>Pclass</th>\n",
       "      <th>Sex</th>\n",
       "      <th>Age</th>\n",
       "      <th>Fare</th>\n",
       "      <th>Embarked</th>\n",
       "    </tr>\n",
       "  </thead>\n",
       "  <tbody>\n",
       "    <tr>\n",
       "      <th>0</th>\n",
       "      <td>1</td>\n",
       "      <td>False</td>\n",
       "      <td>Third Class</td>\n",
       "      <td>male</td>\n",
       "      <td>22.0</td>\n",
       "      <td>7.25</td>\n",
       "      <td>Southampton</td>\n",
       "    </tr>\n",
       "    <tr>\n",
       "      <th>1</th>\n",
       "      <td>2</td>\n",
       "      <td>True</td>\n",
       "      <td>First Class</td>\n",
       "      <td>female</td>\n",
       "      <td>38.0</td>\n",
       "      <td>71.28</td>\n",
       "      <td>Cherbourg</td>\n",
       "    </tr>\n",
       "    <tr>\n",
       "      <th>2</th>\n",
       "      <td>3</td>\n",
       "      <td>True</td>\n",
       "      <td>Third Class</td>\n",
       "      <td>female</td>\n",
       "      <td>26.0</td>\n",
       "      <td>7.92</td>\n",
       "      <td>Southampton</td>\n",
       "    </tr>\n",
       "    <tr>\n",
       "      <th>3</th>\n",
       "      <td>4</td>\n",
       "      <td>True</td>\n",
       "      <td>First Class</td>\n",
       "      <td>female</td>\n",
       "      <td>35.0</td>\n",
       "      <td>53.10</td>\n",
       "      <td>Southampton</td>\n",
       "    </tr>\n",
       "    <tr>\n",
       "      <th>4</th>\n",
       "      <td>5</td>\n",
       "      <td>False</td>\n",
       "      <td>Third Class</td>\n",
       "      <td>male</td>\n",
       "      <td>35.0</td>\n",
       "      <td>8.05</td>\n",
       "      <td>Southampton</td>\n",
       "    </tr>\n",
       "  </tbody>\n",
       "</table>\n",
       "</div>"
      ],
      "text/plain": [
       "   PassengerId Survived       Pclass     Sex   Age   Fare     Embarked\n",
       "0            1    False  Third Class    male  22.0   7.25  Southampton\n",
       "1            2     True  First Class  female  38.0  71.28    Cherbourg\n",
       "2            3     True  Third Class  female  26.0   7.92  Southampton\n",
       "3            4     True  First Class  female  35.0  53.10  Southampton\n",
       "4            5    False  Third Class    male  35.0   8.05  Southampton"
      ]
     },
     "execution_count": 12,
     "metadata": {},
     "output_type": "execute_result"
    }
   ],
   "source": [
    "def fix_data(df):\n",
    "    '''\n",
    "    Updates the values in the dataframe with appropriate data and data types which are much more intuitive to understand.\n",
    "    \n",
    "    df  :-  dataframe.\n",
    "    '''\n",
    "    \n",
    "    # fixing data for survived column\n",
    "    survived_boolean = {0: False, 1: True}\n",
    "    df['Survived'] = df['Survived'].map(survived_boolean)\n",
    "\n",
    "    # Passenger Class abbreviation\n",
    "    passenger_class = {1: 'First Class', 2: 'Second Class', 3: 'Third Class'}\n",
    "    df['Pclass'] = df['Pclass'].map(passenger_class)\n",
    "    \n",
    "    # Embarkation port abbreviation\n",
    "    embarked_ports = {'S': 'Southampton', 'C': 'Cherbourg','Q':'Cobh'}\n",
    "    df['Embarked'] = df['Embarked'].map(embarked_ports)\n",
    "    \n",
    "    # rouding off the fare to two decimal places.\n",
    "    df['Fare'] = np.round(df['Fare'], decimals=2)\n",
    "    \n",
    "    return df\n",
    "\n",
    "titanic_df = fix_data(titanic_df)\n",
    "titanic_df.head(5)"
   ]
  },
  {
   "cell_type": "markdown",
   "metadata": {},
   "source": [
    "To make the column name more intuitive we rename the column 'Pclass' as 'Passenger Class'"
   ]
  },
  {
   "cell_type": "code",
   "execution_count": 13,
   "metadata": {},
   "outputs": [
    {
     "name": "stdout",
     "output_type": "stream",
     "text": [
      "<class 'pandas.core.frame.DataFrame'>\n",
      "Int64Index: 889 entries, 0 to 890\n",
      "Data columns (total 7 columns):\n",
      "PassengerId       889 non-null int64\n",
      "Survived          889 non-null bool\n",
      "PassengerClass    889 non-null object\n",
      "Sex               889 non-null object\n",
      "Age               889 non-null float64\n",
      "Fare              889 non-null float64\n",
      "Embarked          889 non-null object\n",
      "dtypes: bool(1), float64(2), int64(1), object(3)\n",
      "memory usage: 49.5+ KB\n"
     ]
    }
   ],
   "source": [
    "# renaming the Pclass column to PassengerClass.\n",
    "titanic_df = titanic_df.rename(columns = {'Pclass':'PassengerClass'})\n",
    "\n",
    "titanic_df.info()"
   ]
  },
  {
   "cell_type": "markdown",
   "metadata": {},
   "source": [
    "The age data is not grouped here, to make the ages easier to analyse we group/bin the ages.\n",
    "\n",
    "Using this, we can compare groups of ages instead of individual ages. Which is a finite range comapared to the range of ages."
   ]
  },
  {
   "cell_type": "code",
   "execution_count": 14,
   "metadata": {},
   "outputs": [
    {
     "data": {
      "text/plain": [
       "<matplotlib.text.Text at 0xabb0780>"
      ]
     },
     "execution_count": 14,
     "metadata": {},
     "output_type": "execute_result"
    },
    {
     "data": {
      "image/png": "[encoded data removed]",
      "text/plain": [
       "<matplotlib.figure.Figure at 0x9571630>"
      ]
     },
     "metadata": {},
     "output_type": "display_data"
    }
   ],
   "source": [
    "# storing the age data of passengers to use the data for relation between fare.\n",
    "age_data_of_passengers = titanic_df['Age']\n",
    "\n",
    "age_labels = ['0-9', '10-19', '20-29', '30-39', '40-49', '50-59', '60-69', '70-79']\n",
    "titanic_df['AgeGroup'] = pd.cut(titanic_df.Age, range(0, 81, 10), right=False, labels=age_labels)\n",
    "\n",
    "# distributing the passengers over age groups\n",
    "titanic_df.groupby(['AgeGroup']).size().plot(kind='bar',stacked=True)\n",
    "plt.title(\"Distribution of Age Groups\",fontsize=14)\n",
    "plt.ylabel('Count')\n",
    "plt.xlabel('Age Group')"
   ]
  },
  {
   "cell_type": "markdown",
   "metadata": {},
   "source": [
    "Now, we will start exploring the data we obtained after wrangling to find the relations between variables."
   ]
  },
  {
   "cell_type": "markdown",
   "metadata": {},
   "source": [
    "## 5.  Exploring Data\n",
    "        We start exploring the data by finding the relations between the variables we need to anwser our proposed questions."
   ]
  },
  {
   "cell_type": "code",
   "execution_count": 15,
   "metadata": {
    "collapsed": true
   },
   "outputs": [],
   "source": [
    "# get data based on passenger survival and death\n",
    "survivors_data = titanic_df[titanic_df.Survived==True]\n",
    "deaths_data = titanic_df[titanic_df.Survived==False]\n",
    "\n",
    "# Variables related to survival, death. categorized into gender, age.\n",
    "num_males = len(titanic_df[titanic_df['Sex'] == 'male'])\n",
    "num_females = len(titanic_df[titanic_df['Sex'] == 'female'])\n",
    "\n",
    "male_survivors = survivors_data[survivors_data['Sex'] == 'male']\n",
    "num_male_survivals = len(male_survivors)\n",
    "\n",
    "female_survivors = survivors_data[survivors_data['Sex'] == 'female']\n",
    "num_female_survivals = len(female_survivors)\n",
    "\n",
    "male_deaths = deaths_data[deaths_data['Sex'] == 'male']\n",
    "num_male_deaths = len(male_deaths)\n",
    "\n",
    "female_deaths = deaths_data[deaths_data['Sex'] == 'female']\n",
    "num_female_deaths = len(female_deaths)\n",
    "\n",
    "survivors_age_group = survivors_data['AgeGroup']\n",
    "deaths_age_group = deaths_data['AgeGroup']"
   ]
  },
  {
   "cell_type": "markdown",
   "metadata": {},
   "source": [
    "## 5.1. Which gender has a better chance of survival ?\n",
    "    We look at how many males and females were on board and which gender had the highest survival rate, calculate the necessary statistics to answer this question.\n",
    "   "
   ]
  },
  {
   "cell_type": "markdown",
   "metadata": {},
   "source": [
    "#### Counts of surviviors by gender"
   ]
  },
  {
   "cell_type": "code",
   "execution_count": 16,
   "metadata": {},
   "outputs": [
    {
     "data": {
      "text/html": [
       "<div>\n",
       "<table border=\"1\" class=\"dataframe\">\n",
       "  <thead>\n",
       "    <tr style=\"text-align: right;\">\n",
       "      <th>Sex</th>\n",
       "      <th>female</th>\n",
       "      <th>male</th>\n",
       "    </tr>\n",
       "    <tr>\n",
       "      <th>Survived</th>\n",
       "      <th></th>\n",
       "      <th></th>\n",
       "    </tr>\n",
       "  </thead>\n",
       "  <tbody>\n",
       "    <tr>\n",
       "      <th>False</th>\n",
       "      <td>81</td>\n",
       "      <td>468</td>\n",
       "    </tr>\n",
       "    <tr>\n",
       "      <th>True</th>\n",
       "      <td>231</td>\n",
       "      <td>109</td>\n",
       "    </tr>\n",
       "  </tbody>\n",
       "</table>\n",
       "</div>"
      ],
      "text/plain": [
       "Sex       female  male\n",
       "Survived              \n",
       "False         81   468\n",
       "True         231   109"
      ]
     },
     "execution_count": 16,
     "metadata": {},
     "output_type": "execute_result"
    }
   ],
   "source": [
    "gender_table = pd.crosstab(titanic_df['Survived'], titanic_df['Sex'])\n",
    "\n",
    "gender_table"
   ]
  },
  {
   "cell_type": "markdown",
   "metadata": {},
   "source": [
    "The figures above say that there were a significant amount of more males than females on titanic."
   ]
  },
  {
   "cell_type": "markdown",
   "metadata": {},
   "source": [
    "#### Mean of survivors by gender"
   ]
  },
  {
   "cell_type": "code",
   "execution_count": 17,
   "metadata": {},
   "outputs": [
    {
     "data": {
      "text/plain": [
       "Sex\n",
       "female    0.740385\n",
       "male      0.188908\n",
       "Name: Survived, dtype: float64"
      ]
     },
     "execution_count": 17,
     "metadata": {},
     "output_type": "execute_result"
    }
   ],
   "source": [
    "titanic_df.groupby('Sex').Survived.mean()"
   ]
  },
  {
   "cell_type": "markdown",
   "metadata": {},
   "source": [
    "Clearly, the mean of male suriviors is significantly less than female survivors. And historically, \"women and children first\" is a phrase that was first coined on the British HMS Birkenhead, which sunk in 1852. Titanic, which also departed from Britain, is likely to have encountered the same informal policy, handed down culturally through the British seas."
   ]
  },
  {
   "cell_type": "code",
   "execution_count": 18,
   "metadata": {},
   "outputs": [
    {
     "data": {
      "image/png": "[encoded data removed]",
      "text/plain": [
       "<matplotlib.figure.Figure at 0x9491e80>"
      ]
     },
     "metadata": {},
     "output_type": "display_data"
    },
    {
     "name": "stdout",
     "output_type": "stream",
     "text": [
      "Male survivals: 109\n",
      "Male deaths: 468\n",
      "Number of males: 577\n",
      "Proportion of male survivals: 0.188908145581\n"
     ]
    }
   ],
   "source": [
    "# calculate male, deaths  and survivals\n",
    "plot_pie_data(pd.Series([num_male_survivals, num_male_deaths], index=['Male Survivals', 'Male Deaths']),\\\n",
    "              ['Male Survivals', 'Male Deaths'], \"male\")\n",
    "print 'Male survivals: ' + str(num_male_survivals)\n",
    "print 'Male deaths: ' + str(num_male_deaths)\n",
    "print 'Number of males: ' + str(num_males)\n",
    "print 'Proportion of male survivals: ' + str(float(num_male_survivals)/(num_male_survivals + num_male_deaths))"
   ]
  },
  {
   "cell_type": "code",
   "execution_count": 19,
   "metadata": {},
   "outputs": [
    {
     "data": {
      "image/png": "[encoded data removed]",
      "text/plain": [
       "<matplotlib.figure.Figure at 0xae4a7b8>"
      ]
     },
     "metadata": {},
     "output_type": "display_data"
    },
    {
     "name": "stdout",
     "output_type": "stream",
     "text": [
      "Female survivals: 231\n",
      "Female deaths: 81\n",
      "Number of females: 312\n",
      "Proportion of female survivals: 0.740384615385\n"
     ]
    }
   ],
   "source": [
    "# calculate female deaths, survivors\n",
    "\n",
    "plot_pie_data(pd.Series([num_female_survivals, num_female_deaths], \\\n",
    "                           index=['Female Survivals', 'Female Deaths']), ['Female Survivals', 'Female Deaths'], \"female\")\n",
    "print 'Female survivals: ' + str(num_female_survivals)\n",
    "print 'Female deaths: ' + str(num_female_deaths)\n",
    "print 'Number of females: ' + str(num_females)\n",
    "print 'Proportion of female survivals: ' + str(float(num_female_survivals)/(num_female_survivals + num_female_deaths))"
   ]
  },
  {
   "cell_type": "markdown",
   "metadata": {},
   "source": [
    "### Two population proportion Z-Score.\n",
    "\n",
    "The z score test for two population proportions is used when we want to know whether two populations or groups (e.g., males and females; theists and atheists) differ significantly on some single (categorical / characteristic - for example, whether they are vegetarians, musicians, etc..).\n",
    "\n",
    "Here, the groups are males, females.  And the characteristic is survival.\n",
    "\n",
    "The formula for z-score is :-\n",
    "    \n",
    "                z = (p1 - p2) / sqrt(p * (1 - p) * ( (1/n1) + (1/n2) ) ).\n",
    "                \n",
    "                Where, p1 --> proportion of sample 1\n",
    "                       p2 --> proportion of sample 2\n",
    "                       p  --> pooled proportion of samples 1 and 2.\n",
    "                       \n",
    "                       n1 --> size of sample 1\n",
    "                       n2 --> size of sample 2.\n",
    "                \n",
    "                And, \n",
    "                p = (p1 * n1 + p2 * n2) / (n1 + n2).\n",
    "                \n",
    "To test if there is a statistical difference between the two genders, we conduct a difference in proportions test using a significant level of **0.05**.  Let P1 be the proportion of male survivals, let P2 be the proportion of female survivals.\n",
    "\n",
    "\n",
    "### Hypothesis\n",
    "\n",
    "    The hypothesis for this question is that gender impacts the chances of survival.\n",
    "    \n",
    "    HO :- Gender doesnot impact the chances of survival. i.e. P1 = P2\n",
    "    \n",
    "    HA :- Gender impacts the chances of survival. i.e. P1 != P2\n",
    "    "
   ]
  },
  {
   "cell_type": "code",
   "execution_count": 20,
   "metadata": {},
   "outputs": [
    {
     "name": "stdout",
     "output_type": "stream",
     "text": [
      "z-score is = -16.1479516425\n"
     ]
    }
   ],
   "source": [
    "# p1 is the proportion of male survivors, multiplying them with 1.0 to convert to float\n",
    "p1 = (num_male_survivals) * 1.0/(num_male_survivals + num_male_deaths)\n",
    "n1 = float(num_males)\n",
    "\n",
    "# p2 is the proportion of male survivors, multiplying them with 1.0 to convert to float\n",
    "p2 = (num_female_survivals) * 1.0/(num_female_survivals + num_female_deaths)\n",
    "n2 = float(num_females)\n",
    "\n",
    "# calculating pooled proportion using above formula.\n",
    "p = (p1 * n1 +  p2 * n2) / (n1 + n2)\n",
    "\n",
    "# calculating z-score using above formula.\n",
    "z = (p1 - p2) / sqrt(p * (1-p) * ((1.0/n1) + (1.0/n2)))\n",
    "\n",
    "print(\"z-score is = \"+str(z))"
   ]
  },
  {
   "cell_type": "markdown",
   "metadata": {},
   "source": [
    "The z-score critical value for a significance level of 0.05 and Confidence Interval of 95% is -1.96.\n",
    "\n",
    "And, z < -1.96.\n",
    "\n",
    "Thus, we reject the null hypothesis (**HO** --> gender doesnot impact the chances of survival) that the proportions are equal. Also, there is statistical evidence pointing to the fact that a female you had a higher chance of surviving."
   ]
  },
  {
   "cell_type": "markdown",
   "metadata": {},
   "source": [
    "## 5.2. Which Passenger Class has a better chance of survival ?\n",
    "    We look at how many first class, second class and third class passengers were on board. Whether any specific class had the highest survival rate, etc.. by looking at the statistics related to the survival data grouped by passenger class."
   ]
  },
  {
   "cell_type": "markdown",
   "metadata": {},
   "source": [
    "#### Count of survivors by passenger class"
   ]
  },
  {
   "cell_type": "code",
   "execution_count": 21,
   "metadata": {},
   "outputs": [
    {
     "data": {
      "text/html": [
       "<div>\n",
       "<table border=\"1\" class=\"dataframe\">\n",
       "  <thead>\n",
       "    <tr style=\"text-align: right;\">\n",
       "      <th>PassengerClass</th>\n",
       "      <th>First Class</th>\n",
       "      <th>Second Class</th>\n",
       "      <th>Third Class</th>\n",
       "    </tr>\n",
       "    <tr>\n",
       "      <th>Survived</th>\n",
       "      <th></th>\n",
       "      <th></th>\n",
       "      <th></th>\n",
       "    </tr>\n",
       "  </thead>\n",
       "  <tbody>\n",
       "    <tr>\n",
       "      <th>False</th>\n",
       "      <td>80</td>\n",
       "      <td>97</td>\n",
       "      <td>372</td>\n",
       "    </tr>\n",
       "    <tr>\n",
       "      <th>True</th>\n",
       "      <td>134</td>\n",
       "      <td>87</td>\n",
       "      <td>119</td>\n",
       "    </tr>\n",
       "  </tbody>\n",
       "</table>\n",
       "</div>"
      ],
      "text/plain": [
       "PassengerClass  First Class  Second Class  Third Class\n",
       "Survived                                              \n",
       "False                    80            97          372\n",
       "True                    134            87          119"
      ]
     },
     "execution_count": 21,
     "metadata": {},
     "output_type": "execute_result"
    }
   ],
   "source": [
    "pclass_table = pd.crosstab(titanic_df['Survived'],titanic_df['PassengerClass'])\n",
    "pclass_table"
   ]
  },
  {
   "cell_type": "markdown",
   "metadata": {},
   "source": [
    "#### Proportion of survivors by Passenger Class."
   ]
  },
  {
   "cell_type": "code",
   "execution_count": 22,
   "metadata": {},
   "outputs": [
    {
     "name": "stdout",
     "output_type": "stream",
     "text": [
      "PassengerClass\n",
      "First Class     0.626168\n",
      "Second Class    0.472826\n",
      "Third Class     0.242363\n",
      "Name: Survived, dtype: float64\n"
     ]
    }
   ],
   "source": [
    "print titanic_df.groupby('PassengerClass').Survived.mean()"
   ]
  },
  {
   "cell_type": "code",
   "execution_count": 23,
   "metadata": {},
   "outputs": [
    {
     "data": {
      "image/png": "[encoded data removed]",
      "text/plain": [
       "<matplotlib.figure.Figure at 0xae56198>"
      ]
     },
     "metadata": {},
     "output_type": "display_data"
    }
   ],
   "source": [
    "# calculate values for each survival status\n",
    "survivors_class = survivors_data.groupby(['PassengerClass']).size().values\n",
    "deaths_class = deaths_data.groupby(['PassengerClass']).size().values\n",
    "\n",
    "# calculate the total for percentates\n",
    "total = survivors_class + deaths_class\n",
    "\n",
    "# use calculate_percentage_function to calculate percentage of the total\n",
    "survivals_percentages = calculate_percentage(survivors_class, total)*100 \n",
    "deaths_percentages = calculate_percentage(deaths_class, total)*100 \n",
    "\n",
    "# list of labels of passenger class categories.\n",
    "categories_labels = ['First Class', 'Second Class', 'Third Class']\n",
    "\n",
    "# plot count and perecentage charts for data based on passenger class.\n",
    "legend_location = \"upper left\"\n",
    "plot_count_and_percentage_charts(survivors_class, deaths_class, survivals_percentages, \\\n",
    "                                 deaths_percentages, categories_labels, legend_location)"
   ]
  },
  {
   "cell_type": "markdown",
   "metadata": {},
   "source": [
    "The results indicate that majority of the passengers on the ship were third class and also majority of passengers died were also thrid class. \n",
    "* From the first class, 63% of the passengers survived.\n",
    "* From the second class, 47% of the passengers survived. \n",
    "* From the third class, a mere 24% pf the passengers survived.\n",
    "\n",
    "\n",
    "### Hypothesis\n",
    "\n",
    "    The hypothesis for this question is that passenger class impacts the chances of survival.\n",
    "    \n",
    "    HO :- Passenger class doesnot impact the chances of survival.\n",
    "    \n",
    "    HA :- Passenger class impacts the chances of survival.\n",
    "    \n",
    "\n",
    "**NOTE :- by saying passenger class, here we intuitively mean that it refers to the social class of a passenger.**\n",
    "\n",
    "We have two groups of categorical data and multiple columns to observe.  We use chi square tests to test the hypothesis for this data.\n",
    "\n",
    "### Chi Square test for indepedence.\n",
    "\n",
    "The Chi-Square test of Independence is used to determine if there is a significant relationship between two nominal (categorical) variables.  The frequency of one nominal variable is compared with different values of the second nominal variable.  The data can be displayed in an **R*C** contingency table, where **R** is the **row** and **C** is the **column**.\n",
    "\n",
    "Here, in our data Categories are :- survivals and deaths.  Columns are first, second and third passenger classes.\n"
   ]
  },
  {
   "cell_type": "code",
   "execution_count": 24,
   "metadata": {},
   "outputs": [
    {
     "name": "stdout",
     "output_type": "stream",
     "text": [
      "p value = 1.18136247855e-22\n"
     ]
    }
   ],
   "source": [
    "# constructing the contingency table for surviros and non-survivors for each passenger class.\n",
    "chi2, p_value, dof, expected = stats.chi2_contingency(pclass_table.values)\n",
    "\n",
    "print(\"p value = \"+str(p_value))"
   ]
  },
  {
   "cell_type": "markdown",
   "metadata": {},
   "source": [
    "Looking at the p-value obtained from chi square test above, we see that the p-value is 1.18 * 10<sup>22</sup>, which is signficantly small when compared to p-value of 0.05. \n",
    "\n",
    "Hence, we reject the null hypothesis (**HO** --> survival and passenger class are not related **i.e.** passenger class doesnot impact the chances of survival). \n",
    "\n",
    "In fact, the passenger class [intuitively/implicitly the social class of a passenger] played quite significant role in the survival of a passenger."
   ]
  },
  {
   "cell_type": "markdown",
   "metadata": {},
   "source": [
    "## 5.3. Which age group had a better chance of survival ?\n",
    "    \n",
    "    To analyze the dependency/relation between chances of survival and age group.  We look at the statistics related to survival and death based on age of the passengers in the sample."
   ]
  },
  {
   "cell_type": "code",
   "execution_count": 25,
   "metadata": {},
   "outputs": [
    {
     "data": {
      "image/png": "[encoded data removed]",
      "text/plain": [
       "<matplotlib.figure.Figure at 0x95719e8>"
      ]
     },
     "metadata": {},
     "output_type": "display_data"
    }
   ],
   "source": [
    "# calculate values for each survival status\n",
    "survivals_age_group = survivors_data.groupby(['AgeGroup']).size().values\n",
    "deaths_age_group = deaths_data.groupby(['AgeGroup']).size().values\n",
    "\n",
    "# calculate total value for percentages\n",
    "total = survivals_age_group + deaths_age_group\n",
    "\n",
    "# use calculate_percentage_function to calculate percentage of the total\n",
    "survivals_percentages = calculate_percentage(survivals_age_group, total)*100 \n",
    "deaths_percentages = calculate_percentage(deaths_age_group, total)*100 \n",
    "\n",
    "# plot count and perecentage charts for data based on age group.\n",
    "legend_location = \"upper right\"\n",
    "plot_count_and_percentage_charts(survivals_age_group, deaths_age_group, survivals_percentages,\\\n",
    "                                 deaths_percentages, age_labels, legend_location)"
   ]
  },
  {
   "cell_type": "markdown",
   "metadata": {},
   "source": [
    "From the above visualisations it's clear that there were a lot more younger survivors. It's difficult to tell if there is a significant difference in the mean age, based on the visualisations alone. \n",
    "\n",
    "When we compare survivals and deaths, we are essentially **comparing two categorical variables from a single population**. Therefore, we will use the **chi-square** test for independence to determine whether age and survival/death are dependent/related. In our statistical tests, we will use an alpha coefficient of **0.95**.\n",
    "\n",
    "### Hypothesis\n",
    "    The hypothesis for this question is that age group impacts the chances of survival.\n",
    "\n",
    "    HO :- Age group doesnot impact the chances of survival.\n",
    "\n",
    "    HA :- Age group impacts the chances of survival.\n",
    "    \n",
    "We, calculate the the p-value using chi-square caluculation in scipy."
   ]
  },
  {
   "cell_type": "code",
   "execution_count": 26,
   "metadata": {},
   "outputs": [
    {
     "name": "stdout",
     "output_type": "stream",
     "text": [
      "p value is = 0.000107250095367\n"
     ]
    }
   ],
   "source": [
    "# constructing the contingency table for surviros and non-survivors for each age group.\n",
    "age_group_table = pd.crosstab([titanic_df['Survived']], titanic_df['AgeGroup'])\n",
    "chi2, p_value, dof, expected = stats.chi2_contingency(age_group_table.values)\n",
    "\n",
    "print(\"p value is = \"+str(p_value))"
   ]
  },
  {
   "cell_type": "markdown",
   "metadata": {},
   "source": [
    "Looking at the p-value obtained from chi square test above, we see that the p-value is aproximately 0.0001. which is less than 0.05.\n",
    "\n",
    "Hence, we reject the null hypothesis (**HO** --> survival and age group are not related/dependnet **i.e.** age group doesnot impact the chances of survival).\n",
    "\n",
    "According to the data it seems like age group has an effect on survival of the passenger and its also intuitive according to human nature."
   ]
  },
  {
   "cell_type": "markdown",
   "metadata": {},
   "source": [
    "## Relation between age and fare charged.\n",
    "    we check for a corelation between age and fare charged, to estimate the age of passenger based on fare. Also, in most of the places around the world there are reductions of fare charged based on age i.e. in the case of children, old citizens etc.."
   ]
  },
  {
   "cell_type": "code",
   "execution_count": 27,
   "metadata": {},
   "outputs": [
    {
     "data": {
      "image/png": "[encoded data removed]",
      "text/plain": [
       "<matplotlib.figure.Figure at 0xb7b9b00>"
      ]
     },
     "metadata": {},
     "output_type": "display_data"
    }
   ],
   "source": [
    "figure, ax = subplots()\n",
    "\n",
    "plt.scatter(titanic_df['Fare'], age_data_of_passengers, color='y')\n",
    "ax.set_xlabel('Age Group')\n",
    "ax.set_ylabel('Fare Charged')\n",
    "show()"
   ]
  },
  {
   "cell_type": "code",
   "execution_count": 28,
   "metadata": {},
   "outputs": [
    {
     "name": "stdout",
     "output_type": "stream",
     "text": [
      "Pearson Corelation coefficient is = 0.11547387895\n"
     ]
    }
   ],
   "source": [
    "pearson_r, p_val = stats.pearsonr(titanic_df['Fare'], age_data_of_passengers)\n",
    "\n",
    "print(\"Pearson Corelation coefficient is = \"+str(pearson_r))"
   ]
  },
  {
   "cell_type": "markdown",
   "metadata": {},
   "source": [
    "The pearson corelation coefficient obtained is 0.1 approximately which indicates a very weak corelation between age and fare charged.  Which means that the fare amount is not particularly sufficient to estimate the age.  Especially, the missing ages."
   ]
  },
  {
   "cell_type": "markdown",
   "metadata": {},
   "source": [
    "## 6. Conclusion\n",
    "\n",
    "### Limitations\n",
    "\n",
    "    There are several limitations to this analysis based on the given sample data.\n",
    "    \n",
    "    * The sample data had only 12 columns of data to work with with out of which three of were pretty much irrelevant and ambiguious i.e. [Name, Cabin, Ticket] \n",
    "    \n",
    "    * Out of 891 rows of data in the sample, 179 rows has age value missing which is crucial in analysing the age factor for suvival.\n",
    "    \n",
    "    * Cabin's location relative to the ship levels would be a great dimension to look at, but the data on cabin is very vaguely provied with mostly missing values.\n",
    "    \n",
    "    * The units of fare charged was not specified i.e. currency used for payment.\n",
    "    \n",
    "### Factors for survival\n",
    "\n",
    "    Gender, Age and Passenger Class [i.e. Social Class] played an important role in the survival of a passenger according to the data.\n",
    "    \n",
    "### Finally\n",
    "\n",
    "    Overall, the strongest point to remember is that Social Class/Passenger class of the passenger had a strong impact on the chances of survival.  Then, the policy of \"Women and Children\" first seems to have taken place here with most of the female passengers surviving.\n",
    "    Although age had an impact on the survival of passengers I wouldn't say that its a significant one as for one most of the age data was missing and secondly, in the given sample the most of the passengers are from younger age groups ."
   ]
  }
 ],
 "metadata": {
  "kernelspec": {
   "display_name": "Python [conda env:DAND]",
   "language": "python",
   "name": "conda-env-DAND-py"
  },
  "language_info": {
   "codemirror_mode": {
    "name": "ipython",
    "version": 2
   },
   "file_extension": ".py",
   "mimetype": "text/x-python",
   "name": "python",
   "nbconvert_exporter": "python",
   "pygments_lexer": "ipython2",
   "version": "2.7.12"
  }
 },
 "nbformat": 4,
 "nbformat_minor": 2
}
